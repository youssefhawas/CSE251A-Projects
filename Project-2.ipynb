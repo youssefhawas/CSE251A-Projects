{
 "cells": [
  {
   "cell_type": "code",
   "execution_count": 214,
   "id": "750b83ad",
   "metadata": {},
   "outputs": [],
   "source": [
    "from sklearn.linear_model import LogisticRegression\n",
    "from sklearn.metrics import log_loss\n",
    "from sklearn.preprocessing import MinMaxScaler, StandardScaler\n",
    "import numpy as np\n",
    "import math\n",
    "import random\n",
    "random.seed(0)\n",
    "np.random.seed(0)"
   ]
  },
  {
   "cell_type": "code",
   "execution_count": 202,
   "id": "a960cdd7",
   "metadata": {},
   "outputs": [],
   "source": [
    "X_train, Y_train = [], []\n",
    "with open('wine.data') as f:\n",
    "    for line in f.readlines():\n",
    "        split_line = line.split(',')\n",
    "        split_line[-1] = split_line[-1].replace('\\n', '')\n",
    "        label = int(split_line[0])\n",
    "        feats = [float(x) for x in split_line[1:]]\n",
    "        if label == 1 or label == 2:\n",
    "            X_train.append(feats)\n",
    "            if label == 1:\n",
    "                label = -1\n",
    "            else:\n",
    "                label = 1\n",
    "            Y_train.append(label)"
   ]
  },
  {
   "cell_type": "code",
   "execution_count": 203,
   "id": "8daf9a80",
   "metadata": {},
   "outputs": [],
   "source": [
    "scaler = StandardScaler()\n",
    "scaler.fit(X_train)\n",
    "scaled_X_train = scaler.transform(X_train)"
   ]
  },
  {
   "cell_type": "code",
   "execution_count": 204,
   "id": "1c8611ab",
   "metadata": {},
   "outputs": [],
   "source": [
    "log_reg = LogisticRegression(penalty=\"none\",verbose=0, fit_intercept=False)"
   ]
  },
  {
   "cell_type": "code",
   "execution_count": 205,
   "id": "3b329799",
   "metadata": {},
   "outputs": [
    {
     "data": {
      "text/plain": [
       "LogisticRegression(fit_intercept=False, penalty='none')"
      ]
     },
     "execution_count": 205,
     "metadata": {},
     "output_type": "execute_result"
    }
   ],
   "source": [
    "log_reg.fit(scaled_X_train, Y_train)"
   ]
  },
  {
   "cell_type": "code",
   "execution_count": 206,
   "id": "572b3d0b",
   "metadata": {},
   "outputs": [],
   "source": [
    "def loss_function(weights, x_tr, y_tr):\n",
    "    loss = 0\n",
    "    for i in range(len(x_tr)):\n",
    "        loss += math.log(1 + math.exp(-y_tr[i] * np.dot(weights, x_tr[i])))\n",
    "    return loss"
   ]
  },
  {
   "cell_type": "code",
   "execution_count": 207,
   "id": "25c9a916",
   "metadata": {},
   "outputs": [
    {
     "name": "stdout",
     "output_type": "stream",
     "text": [
      "0.000279344617930297\n"
     ]
    }
   ],
   "source": [
    "coefs = log_reg.coef_\n",
    "l_star = loss_function(coefs[0], scaled_X_train, Y_train)\n",
    "print(l_star)"
   ]
  },
  {
   "cell_type": "code",
   "execution_count": 117,
   "id": "c506b071",
   "metadata": {},
   "outputs": [],
   "source": [
    "def calculate_gradient(coord, weights, x_tr, y_tr):\n",
    "    grad = 0\n",
    "    for i in range(len(x_tr)):\n",
    "        grad += -(y_tr[i] * x_tr[i][coord]) / (1 + math.exp(y_tr[i]*np.dot(weights, x_tr[i])))\n",
    "    return grad"
   ]
  },
  {
   "cell_type": "code",
   "execution_count": 237,
   "id": "77e43f11",
   "metadata": {},
   "outputs": [],
   "source": [
    "def random_coord_descent(x_tr, y_tr, lr =1e-1):\n",
    "    losses = []\n",
    "    updates = []\n",
    "    prev_loss = 1e8\n",
    "    weights = [0] * len(x_tr[0])\n",
    "    i=1\n",
    "    cnt = 0\n",
    "    indices = range(13)\n",
    "    while True:\n",
    "        coord_to_update = random.sample(indices,1)[0]\n",
    "        grad = calculate_gradient(coord_to_update, weights, x_tr, y_tr)\n",
    "        weights[coord_to_update] = weights[coord_to_update] - lr*grad\n",
    "        loss = loss_function(weights, x_tr, y_tr)\n",
    "        losses.append(loss)\n",
    "        updates.append(i)\n",
    "        if prev_loss - loss > 1e-7:\n",
    "            cnt=0\n",
    "        else:\n",
    "            cnt+=1\n",
    "        if i==50000:\n",
    "            break\n",
    "        if cnt==10:\n",
    "            break\n",
    "        prev_loss = loss\n",
    "        i+=1\n",
    "\n",
    "        \n",
    "    return weights, losses, updates"
   ]
  },
  {
   "cell_type": "code",
   "execution_count": 238,
   "id": "8a15ff3e",
   "metadata": {},
   "outputs": [],
   "source": [
    "random_coord_weights, losses, updates = random_coord_descent(scaled_X_train, Y_train)"
   ]
  },
  {
   "cell_type": "code",
   "execution_count": 240,
   "id": "7e197ee0",
   "metadata": {},
   "outputs": [
    {
     "name": "stdout",
     "output_type": "stream",
     "text": [
      "0.024496247174775113\n",
      "21429\n"
     ]
    }
   ],
   "source": [
    "print(losses[-1])"
   ]
  },
  {
   "cell_type": "code",
   "execution_count": 241,
   "id": "e77f5469",
   "metadata": {},
   "outputs": [],
   "source": [
    "def greedy_coord_descent(x_tr, y_tr, lr =1e-1):\n",
    "    losses = []\n",
    "    updates = []\n",
    "    prev_loss = 1e8\n",
    "    weights = [0] * len(x_tr[0])\n",
    "    i=1\n",
    "    cnt = 0\n",
    "    indices = range(13)\n",
    "    while True:\n",
    "        grads = [calculate_gradient(i, weights, x_tr, y_tr) for i in range(len(weights))]\n",
    "        abs_grads = [abs(grad) for grad in grads]\n",
    "        coord_to_update = np.argmax(abs_grads)\n",
    "        weights[coord_to_update] = weights[coord_to_update] - lr*grads[coord_to_update]\n",
    "        loss = loss_function(weights, x_tr, y_tr)\n",
    "        losses.append(loss)\n",
    "        updates.append(i)\n",
    "        if prev_loss - loss > 1e-7:\n",
    "            cnt=0\n",
    "        else:\n",
    "            cnt+=1\n",
    "        if i==50000:\n",
    "            break\n",
    "        if cnt==10:\n",
    "            break\n",
    "        prev_loss = loss\n",
    "        i+=1\n",
    "\n",
    "        \n",
    "    return weights, losses, updates"
   ]
  },
  {
   "cell_type": "code",
   "execution_count": 242,
   "id": "32877959",
   "metadata": {},
   "outputs": [
    {
     "name": "stdout",
     "output_type": "stream",
     "text": [
      "0.0052062996061273265\n"
     ]
    }
   ],
   "source": [
    "greedy_coord_weights, greedy_losses, greedy_updates = greedy_coord_descent(scaled_X_train, Y_train)\n",
    "print(greedy_losses[-1])"
   ]
  },
  {
   "cell_type": "code",
   "execution_count": 243,
   "id": "0966771f",
   "metadata": {},
   "outputs": [],
   "source": [
    "import matplotlib.pyplot as plt"
   ]
  },
  {
   "cell_type": "code",
   "execution_count": 246,
   "id": "30d50da2",
   "metadata": {},
   "outputs": [
    {
     "data": {
      "image/png": "[encoded data removed]",
      "text/plain": [
       "<Figure size 576x432 with 1 Axes>"
      ]
     },
     "metadata": {
      "needs_background": "light"
     },
     "output_type": "display_data"
    }
   ],
   "source": [
    "plt.figure(figsize=(8,6))\n",
    "plt.plot(updates[100:], losses[100:], label= 'Random Coordinate Descent')\n",
    "plt.plot(greedy_updates[100:], greedy_losses[100:], label = 'Greedy Coordinate Descent')\n",
    "plt.axhline(0.00027934, ls='--')\n",
    "plt.legend()\n",
    "plt.xlabel('Weight updates (Iterations)')\n",
    "plt.ylabel('Log loss')\n",
    "plt.title(\"Log Loss vs Iterations\")\n",
    "plt.show()"
   ]
  },
  {
   "cell_type": "code",
   "execution_count": null,
   "id": "3bcf9f65",
   "metadata": {},
   "outputs": [],
   "source": []
  }
 ],
 "metadata": {
  "kernelspec": {
   "display_name": "Python 3 (ipykernel)",
   "language": "python",
   "name": "python3"
  },
  "language_info": {
   "codemirror_mode": {
    "name": "ipython",
    "version": 3
   },
   "file_extension": ".py",
   "mimetype": "text/x-python",
   "name": "python",
   "nbconvert_exporter": "python",
   "pygments_lexer": "ipython3",
   "version": "3.9.7"
  }
 },
 "nbformat": 4,
 "nbformat_minor": 5
}
